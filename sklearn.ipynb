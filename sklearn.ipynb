{
  "nbformat": 4,
  "nbformat_minor": 0,
  "metadata": {
    "colab": {
      "provenance": [],
      "authorship_tag": "ABX9TyO42iwECvTYN4EYPgYox5r0",
      "include_colab_link": true
    },
    "kernelspec": {
      "name": "python3",
      "display_name": "Python 3"
    },
    "language_info": {
      "name": "python"
    }
  },
  "cells": [
    {
      "cell_type": "markdown",
      "metadata": {
        "id": "view-in-github",
        "colab_type": "text"
      },
      "source": [
        "<a href=\"https://colab.research.google.com/github/wjdsheep15/AIStudy/blob/main/sklearn.ipynb\" target=\"_parent\"><img src=\"https://colab.research.google.com/assets/colab-badge.svg\" alt=\"Open In Colab\"/></a>"
      ]
    },
    {
      "cell_type": "markdown",
      "source": [
        "*  머신런닝 - 기초 코딩\n",
        " - 사이킷런(scikit-learn)\n"
      ],
      "metadata": {
        "id": "e4_rS4w2ZPor"
      }
    },
    {
      "cell_type": "code",
      "execution_count": null,
      "metadata": {
        "id": "8pwqUny9Y8kL"
      },
      "outputs": [],
      "source": [
        "pip list"
      ]
    },
    {
      "cell_type": "code",
      "source": [
        "from sklearn import tree\n",
        "\n",
        "x=[[0,1, 0, 1, 1], [0, 1, 0, 0, 0], [1, 0, 1, 0, 0]]\n",
        "y = [2, 2, 1]\n",
        "\n",
        "c=tree.DecisionTreeClassifier()\n",
        "c=c.fit(x,y)"
      ],
      "metadata": {
        "id": "PjSfA9ioZOFP"
      },
      "execution_count": null,
      "outputs": []
    },
    {
      "cell_type": "code",
      "source": [
        "c.predict([[1,1,0,0,1]])"
      ],
      "metadata": {
        "colab": {
          "base_uri": "https://localhost:8080/"
        },
        "id": "0oZRdgYCaTs5",
        "outputId": "669f6e19-1a27-4f56-a713-64a33b6d437b"
      },
      "execution_count": null,
      "outputs": [
        {
          "output_type": "execute_result",
          "data": {
            "text/plain": [
              "array([2])"
            ]
          },
          "metadata": {},
          "execution_count": 4
        }
      ]
    },
    {
      "cell_type": "code",
      "source": [
        "c.predict([[1,0,1,1,0]])"
      ],
      "metadata": {
        "colab": {
          "base_uri": "https://localhost:8080/"
        },
        "id": "voN4YsRsamp8",
        "outputId": "30cfc5fe-7151-4914-ff34-34e8a9f37cae"
      },
      "execution_count": null,
      "outputs": [
        {
          "output_type": "execute_result",
          "data": {
            "text/plain": [
              "array([1])"
            ]
          },
          "metadata": {},
          "execution_count": 5
        }
      ]
    },
    {
      "cell_type": "code",
      "source": [
        "c.predict([[1,1,1,0,0]])"
      ],
      "metadata": {
        "colab": {
          "base_uri": "https://localhost:8080/"
        },
        "id": "AcfCnOk7aqt7",
        "outputId": "2bbd783c-5df3-46f3-c0c9-119f84e98d5f"
      },
      "execution_count": null,
      "outputs": [
        {
          "output_type": "execute_result",
          "data": {
            "text/plain": [
              "array([2])"
            ]
          },
          "metadata": {},
          "execution_count": 6
        }
      ]
    },
    {
      "cell_type": "markdown",
      "source": [
        "* 자녀의 키가 속하는 그룹 예측 코드"
      ],
      "metadata": {
        "id": "NeZRv4-db5Qi"
      }
    },
    {
      "cell_type": "code",
      "source": [
        "x=[[180, 165], [175, 160], [180, 172], [165, 160], [171, 152]]\n",
        "y = [3, 2, 2, 1, 1]\n",
        "c=c.fit(x,y)"
      ],
      "metadata": {
        "id": "q0R-R5dhbKCJ"
      },
      "execution_count": null,
      "outputs": []
    },
    {
      "cell_type": "code",
      "source": [
        "c.predict([[175, 153]])"
      ],
      "metadata": {
        "colab": {
          "base_uri": "https://localhost:8080/"
        },
        "id": "Kw8yGkE0blWL",
        "outputId": "d8361e6e-acb4-441a-e388-dbb2f024ea84"
      },
      "execution_count": null,
      "outputs": [
        {
          "output_type": "execute_result",
          "data": {
            "text/plain": [
              "array([2])"
            ]
          },
          "metadata": {},
          "execution_count": 8
        }
      ]
    },
    {
      "cell_type": "markdown",
      "source": [
        "* Mission1\n",
        "  - 다이어트 방법이 건강한지 여부를 판단하는 코드\n",
        "  - 감소 : 0, 증가 : 1\n",
        "  - 건강 : 1, 미흡 : 0"
      ],
      "metadata": {
        "id": "XvhAcrykb8i9"
      }
    },
    {
      "cell_type": "code",
      "source": [
        "x=[[0, 0, 1, 1, 1, 1], [0, 0, 1, 0, 0, 1], [1, 1, 1, 1, 0, 0], [1, 1, 0, 1, 0, 0], [0, 0, 0, 0, 0, 1]]\n",
        "y = [1, 1, 0, 0, 1]\n",
        "c=c.fit(x,y)"
      ],
      "metadata": {
        "id": "UPXTp6PdcBXP"
      },
      "execution_count": null,
      "outputs": []
    },
    {
      "cell_type": "code",
      "source": [
        "c.predict([[0, 0, 1, 0, 1, 0]])\n"
      ],
      "metadata": {
        "colab": {
          "base_uri": "https://localhost:8080/"
        },
        "id": "o9aWWBPOccvW",
        "outputId": "e67342f9-f699-45b3-957b-3f911d35519f"
      },
      "execution_count": null,
      "outputs": [
        {
          "output_type": "execute_result",
          "data": {
            "text/plain": [
              "array([1])"
            ]
          },
          "metadata": {},
          "execution_count": 13
        }
      ]
    },
    {
      "cell_type": "code",
      "source": [
        "c.predict([[1, 0, 1, 0, 0, 0]])"
      ],
      "metadata": {
        "colab": {
          "base_uri": "https://localhost:8080/"
        },
        "id": "Qh9kdtjrcjsi",
        "outputId": "eb5bc017-bb1e-434e-cbb4-bc549c435378"
      },
      "execution_count": null,
      "outputs": [
        {
          "output_type": "execute_result",
          "data": {
            "text/plain": [
              "array([1])"
            ]
          },
          "metadata": {},
          "execution_count": 14
        }
      ]
    }
  ]
}